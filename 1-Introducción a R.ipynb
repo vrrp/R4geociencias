{
 "cells": [
  {
   "cell_type": "markdown",
   "metadata": {},
   "source": [
    "# <center>R para Geociencias: Aplicado a la hidrología</center>\n",
    "\n",
    "### <center>Por: Víctor Rojas</center>\n",
    "\n",
    "<img src=\"img/gmail_logo.png\" height=\"30\" width=\"30\"> <center>vr.rojaspozo@gmail.com</center>\n",
    "\n",
    "[<img  src=\"img/github_logo.png\" height=\"30\" width=\"30\">](http://github.com/vrrp)\n",
    "<center> vrrp </center>"
   ]
  },
  {
   "cell_type": "code",
   "execution_count": null,
   "metadata": {},
   "outputs": [],
   "source": []
  }
 ],
 "metadata": {
  "kernelspec": {
   "display_name": "R",
   "language": "R",
   "name": "ir"
  },
  "language_info": {
   "codemirror_mode": "r",
   "file_extension": ".r",
   "mimetype": "text/x-r-source",
   "name": "R",
   "pygments_lexer": "r",
   "version": "3.6.1"
  }
 },
 "nbformat": 4,
 "nbformat_minor": 4
}
