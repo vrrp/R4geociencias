{
 "cells": [
  {
   "cell_type": "markdown",
   "metadata": {},
   "source": [
    "# <center>R para Geociencias: Aplicado a la hidrología</center>\n",
    "\n",
    "### <center>Por: Víctor Rojas</center>\n",
    "\n",
    "<img src=\"img/gmail_logo.png\" height=\"30\" width=\"30\"> <center>vr.rojaspozo@gmail.com</center>\n",
    "\n",
    "[<img  src=\"img/github_logo.png\" height=\"30\" width=\"30\">](http://github.com/vrrp)\n",
    "<center> vrrp </center>"
   ]
  },
  {
   "cell_type": "markdown",
   "metadata": {},
   "source": [
    "### 6. Funciones"
   ]
  },
  {
   "cell_type": "code",
   "execution_count": 1,
   "metadata": {},
   "outputs": [
    {
     "name": "stdout",
     "output_type": "stream",
     "text": [
      "area rectangulo = 20"
     ]
    }
   ],
   "source": [
    "# Area de un rectangulo\n",
    "areaRectangulo <-function(base,altura){\n",
    "    ar <- base*altura\n",
    "    return(ar)\n",
    "}\n",
    "\n",
    "ar<-areaRectangulo(4,5)\n",
    "cat(\"area rectangulo =\",ar)"
   ]
  },
  {
   "cell_type": "code",
   "execution_count": 10,
   "metadata": {},
   "outputs": [
    {
     "data": {
      "text/html": [
       "295.15"
      ],
      "text/latex": [
       "295.15"
      ],
      "text/markdown": [
       "295.15"
      ],
      "text/plain": [
       "[1] 295.15"
      ]
     },
     "metadata": {},
     "output_type": "display_data"
    }
   ],
   "source": [
    "convert_C2K <- function(temp_C) {\n",
    "  temp_K <- temp_C + 273.15\n",
    "  return(temp_K)\n",
    "}\n",
    "tk<-convert_C2K(22)\n",
    "tk"
   ]
  },
  {
   "cell_type": "code",
   "execution_count": 9,
   "metadata": {},
   "outputs": [
    {
     "name": "stdout",
     "output_type": "stream",
     "text": [
      "\tCalcular\n",
      "\t===========\n",
      "\n",
      "1. Area de un cuadrado\n",
      "2. Area de un triangulo\n",
      "3. Area de un trapecio\n",
      "q. Salir\n",
      "elegir opción =2\n",
      "\n",
      "base = 3\n",
      "altura = 5\n",
      "area =  7.5"
     ]
    }
   ],
   "source": [
    "menu <- function(){\n",
    "    cat(\"\\tCalcular\\n\")\n",
    "    cat(\"\\t===========\")\n",
    "    cat(\"\\n\\n1. Area de un cuadrado\")\n",
    "    cat(\"\\n2. Area de un triangulo\")\n",
    "    cat(\"\\n3. Area de un trapecio\")\n",
    "    cat(\"\\nq. Salir\")\n",
    "    #name <- readline(“elegir opción = “)\n",
    "    }\n",
    "menu()\n",
    "    op <- readline(\"\\nelegir opción =\" )\n",
    "    \n",
    "    if(op==\"1\"){\n",
    "        base <- as.numeric(readline(\"\\nbase = \"))\n",
    "        altura <- as.numeric(readline(\"altura = \"))\n",
    "        area <- base*altura\n",
    "        cat(\"area = \", area)\n",
    "    }\n",
    "    \n",
    "    if(op==\"2\"){\n",
    "        base <- as.numeric(readline(\"\\nbase = \"))\n",
    "        altura <- as.numeric(readline(\"altura = \"))\n",
    "        area <- base*altura/2\n",
    "        cat(\"area = \", area)\n",
    "    }\n",
    "    \n",
    "    if(op==\"3\"){\n",
    "        bmenor <- as.numeric(readline(\"\\nbase menor = \"))\n",
    "        bmayor <- as.numeric(readline(\"base mayor = \"))\n",
    "        altura <- as.numeric(readline(\"altura = \"))\n",
    "        area <- (bmenor+bmayor)*altura/2\n",
    "        cat(\"area = \", area)\n",
    "    }\n"
   ]
  },
  {
   "cell_type": "code",
   "execution_count": null,
   "metadata": {},
   "outputs": [],
   "source": []
  }
 ],
 "metadata": {
  "kernelspec": {
   "display_name": "R",
   "language": "R",
   "name": "ir"
  },
  "language_info": {
   "codemirror_mode": "r",
   "file_extension": ".r",
   "mimetype": "text/x-r-source",
   "name": "R",
   "pygments_lexer": "r",
   "version": "3.6.1"
  }
 },
 "nbformat": 4,
 "nbformat_minor": 4
}
