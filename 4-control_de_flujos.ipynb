{
 "cells": [
  {
   "cell_type": "markdown",
   "metadata": {},
   "source": [
    "# <center>R para Geociencias: Aplicado a la hidrología</center>\n",
    "\n",
    "### <center>Por: Víctor Rojas</center>\n",
    "\n",
    "<img src=\"img/gmail_logo.png\" height=\"30\" width=\"30\"> <center>vr.rojaspozo@gmail.com</center>\n",
    "\n",
    "[<img  src=\"img/github_logo.png\" height=\"30\" width=\"30\">](http://github.com/vrrp)\n",
    "<center> vrrp </center>"
   ]
  },
  {
   "cell_type": "markdown",
   "metadata": {},
   "source": [
    "## 4. Control de flujo\n",
    "* if, else\n",
    "* for\n",
    "* while\n",
    "* break\n",
    "* next\n",
    "\n",
    "### 4.1 if, else"
   ]
  },
  {
   "cell_type": "code",
   "execution_count": 11,
   "metadata": {},
   "outputs": [
    {
     "name": "stdout",
     "output_type": "stream",
     "text": [
      "notas_fisica es de tipo: numeric\n",
      "\n",
      "Aprovado"
     ]
    }
   ],
   "source": [
    "notas_fisica <- c(16, 14, 13, 11, 9)\n",
    "media <- mean(notas_fisica)\n",
    "cat(\"notas_fisica es de tipo:\", class(notas_fisica))\n",
    "\n",
    "if (media >=10.5){\n",
    "    cat(\"\\n\\nAprovado\")\n",
    "}else{cat(\"\\n\\nDesaprobado\")}"
   ]
  },
  {
   "cell_type": "markdown",
   "metadata": {},
   "source": [
    "### 4.2 for"
   ]
  },
  {
   "cell_type": "code",
   "execution_count": 21,
   "metadata": {},
   "outputs": [
    {
     "name": "stdout",
     "output_type": "stream",
     "text": [
      "\n",
      " 1 -->  16\n",
      " 2 -->  14\n",
      " 3 -->  13\n",
      " 4 -->  11\n",
      " 5 -->  9"
     ]
    }
   ],
   "source": [
    "notas_fisica <- c(16, 14, 13, 11, 9)\n",
    "n_elem <- length(notas_fisica)\n",
    "\n",
    "for(i in 1:n_elem){\n",
    "    cat(\"\\n\", i, \"--> \", notas_fisica[i])\n",
    "}"
   ]
  },
  {
   "cell_type": "markdown",
   "metadata": {},
   "source": [
    "### 4.3 while"
   ]
  },
  {
   "cell_type": "code",
   "execution_count": 27,
   "metadata": {},
   "outputs": [
    {
     "name": "stdout",
     "output_type": "stream",
     "text": [
      "\n",
      " 1 -->  16\n",
      " 2 -->  14\n",
      " 3 -->  13\n",
      " 4 -->  11\n",
      " 5 -->  9"
     ]
    }
   ],
   "source": [
    "notas_fisica <- c(16, 14, 13, 11, 9)\n",
    "n_elem <- length(notas_fisica)\n",
    "\n",
    "i <- 1\n",
    "while (i <= n_elem) {\n",
    "cat(\"\\n\", i, \"--> \", notas_fisica[i])\n",
    "i = i+1\n",
    "}"
   ]
  },
  {
   "cell_type": "markdown",
   "metadata": {},
   "source": [
    "### 4.4 break"
   ]
  },
  {
   "cell_type": "code",
   "execution_count": 37,
   "metadata": {},
   "outputs": [
    {
     "name": "stdout",
     "output_type": "stream",
     "text": [
      "16 14 13 11 9 \n",
      "\n",
      "[1] 16\n",
      "[1] 14\n"
     ]
    }
   ],
   "source": [
    "notas_fisica <- c(16, 14, 13, 11, 9)\n",
    "n_elem <- length(notas_fisica)\n",
    "cat(notas_fisica,\"\\n\\n\")\n",
    "\n",
    "for (inota in x) {\n",
    "    if (notas_fisica[inota]== 13){\n",
    "        break\n",
    "    }\n",
    "    print(notas_fisica[inota])\n",
    "}"
   ]
  },
  {
   "cell_type": "markdown",
   "metadata": {},
   "source": [
    "### 4.5 next"
   ]
  },
  {
   "cell_type": "code",
   "execution_count": 40,
   "metadata": {},
   "outputs": [
    {
     "name": "stdout",
     "output_type": "stream",
     "text": [
      "16 14 13 11 9 \n",
      "\n",
      "[1] 16\n",
      "[1] 14\n",
      "[1] 11\n",
      "[1] 9\n"
     ]
    }
   ],
   "source": [
    "cat(notas_fisica,\"\\n\\n\")\n",
    "\n",
    "for (inota in x) {\n",
    "    if (notas_fisica[inota]== 13){\n",
    "        next\n",
    "    }\n",
    "    print(notas_fisica[inota])\n",
    "}"
   ]
  }
 ],
 "metadata": {
  "kernelspec": {
   "display_name": "R",
   "language": "R",
   "name": "ir"
  },
  "language_info": {
   "codemirror_mode": "r",
   "file_extension": ".r",
   "mimetype": "text/x-r-source",
   "name": "R",
   "pygments_lexer": "r",
   "version": "3.6.1"
  }
 },
 "nbformat": 4,
 "nbformat_minor": 4
}
