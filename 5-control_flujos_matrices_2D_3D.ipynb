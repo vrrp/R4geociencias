{
 "cells": [
  {
   "cell_type": "markdown",
   "metadata": {},
   "source": [
    "# <center>R para Geociencias: Aplicado a la hidrología</center>\n",
    "\n",
    "### <center>Por: Víctor Rojas</center>\n",
    "\n",
    "<img src=\"img/gmail_logo.png\" height=\"30\" width=\"30\"> <center>vr.rojaspozo@gmail.com</center>\n",
    "\n",
    "[<img  src=\"img/github_logo.png\" height=\"30\" width=\"30\">](http://github.com/vrrp)\n",
    "<center> vrrp </center>"
   ]
  },
  {
   "cell_type": "markdown",
   "metadata": {},
   "source": [
    "## 5. Control de flujos y matrices de 2D y 3D\n",
    "### 5.1 Matrices de 2D"
   ]
  },
  {
   "cell_type": "code",
   "execution_count": 24,
   "metadata": {},
   "outputs": [
    {
     "name": "stdout",
     "output_type": "stream",
     "text": [
      "     [,1] [,2] [,3] [,4]\n",
      "[1,]    1    5    9   13\n",
      "[2,]    2    6   10   14\n",
      "[3,]    3    7   11   15\n",
      "[4,]    4    8   12   16\n",
      "\n",
      " ndim(array1) =  4 4\n",
      "\n",
      " nrows(array1) =  4\n",
      " ncols(array1) =  4"
     ]
    }
   ],
   "source": [
    "M1 =matrix(1:16, nrow=4, ncol=4)\n",
    "\n",
    "print(M1)\n",
    "\n",
    "ndim <-dim(M1)\n",
    "nrows <- ndim[1]\n",
    "ncols <- ndim[2]\n",
    "\n",
    "cat(\"\\n ndim(array1) = \", ndim)\n",
    "cat(\"\\n\\n nrows(array1) = \", nrows)\n",
    "cat(\"\\n ncols(array1) = \", ncols)"
   ]
  },
  {
   "cell_type": "code",
   "execution_count": 25,
   "metadata": {},
   "outputs": [
    {
     "name": "stdout",
     "output_type": "stream",
     "text": [
      "\n",
      "M1[ 1 , 1 ] -->  1\n",
      "M1[ 1 , 2 ] -->  5\n",
      "M1[ 1 , 3 ] -->  9\n",
      "M1[ 1 , 4 ] -->  13\n",
      "M1[ 2 , 1 ] -->  2\n",
      "M1[ 2 , 2 ] -->  6\n",
      "M1[ 2 , 3 ] -->  10\n",
      "M1[ 2 , 4 ] -->  14\n",
      "M1[ 3 , 1 ] -->  3\n",
      "M1[ 3 , 2 ] -->  7\n",
      "M1[ 3 , 3 ] -->  11\n",
      "M1[ 3 , 4 ] -->  15\n",
      "M1[ 4 , 1 ] -->  4\n",
      "M1[ 4 , 2 ] -->  8\n",
      "M1[ 4 , 3 ] -->  12\n",
      "M1[ 4 , 4 ] -->  16"
     ]
    }
   ],
   "source": [
    "for(irow in 1:nrows){\n",
    "    for (icol in 1:ncols){\n",
    "        cat(\"\\nM1[\", irow,\",\",icol,\"] --> \",M1[irow,icol] )\n",
    "    }\n",
    "}"
   ]
  },
  {
   "cell_type": "code",
   "execution_count": 26,
   "metadata": {},
   "outputs": [
    {
     "name": "stdout",
     "output_type": "stream",
     "text": [
      "     [,1] [,2] [,3] [,4]\n",
      "[1,]    1    5    9   13\n",
      "[2,]    2    1   10   14\n",
      "[3,]    3    7    1   15\n",
      "[4,]    4    8   12    1\n"
     ]
    }
   ],
   "source": [
    "for(irow in 1:nrows){\n",
    "    for (icol in 1:ncols){\n",
    "        if (irow==icol){\n",
    "            M1[irow,icol]=1\n",
    "        }\n",
    "    }\n",
    "}\n",
    "print(M1)"
   ]
  },
  {
   "cell_type": "code",
   "execution_count": 27,
   "metadata": {},
   "outputs": [
    {
     "name": "stdout",
     "output_type": "stream",
     "text": [
      "     [,1] [,2] [,3] [,4]\n",
      "[1,]   NA   NA   NA   13\n",
      "[2,]   NA   NA   10   14\n",
      "[3,]   NA   NA   NA   15\n",
      "[4,]   NA   NA   12   NA\n"
     ]
    }
   ],
   "source": [
    "for(irow in 1:nrows){\n",
    "    for (icol in 1:ncols){\n",
    "        if (M1[irow,icol]<10){\n",
    "            M1[irow,icol]=NA\n",
    "        }\n",
    "    }\n",
    "}\n",
    "print(M1)"
   ]
  },
  {
   "cell_type": "markdown",
   "metadata": {},
   "source": [
    "# 5.2 Matrices 3D"
   ]
  },
  {
   "cell_type": "code",
   "execution_count": 77,
   "metadata": {},
   "outputs": [
    {
     "name": "stdout",
     "output_type": "stream",
     "text": [
      "     [,1] [,2] [,3]\n",
      "[1,]   18   18   18\n",
      "[2,]   36   36   36\n",
      "[3,]   54   54   54\n",
      "[4,]   72   72   72\n",
      "     [,1] [,2] [,3]\n",
      "[1,]  1.8  1.8  1.8\n",
      "[2,]  3.6  3.6  3.6\n",
      "[3,]  5.4  5.4  5.4\n",
      "[4,]  7.2  7.2  7.2\n",
      "\n",
      " ndim(array1) =  4 3 2\n",
      "\n",
      " nrows(array1) =  4\n",
      " ncols(array1) =  3\n",
      " nlevs(array1) =  2\n",
      " double\n",
      " array"
     ]
    }
   ],
   "source": [
    "M1 =array(1: 4*3*2, dim=c(4,3,2) )\n",
    "\n",
    "print(M1[ , ,1]*3)\n",
    "print(M1[ , ,2]*0.3)\n",
    " \n",
    "ndim <-dim(M1)\n",
    "nrows <- ndim[1]\n",
    "ncols <- ndim[2]\n",
    "nlevs <- ndim[3]\n",
    "\n",
    "cat(\"\\n ndim(array1) = \", ndim)\n",
    "cat(\"\\n\\n nrows(array1) = \", nrows)\n",
    "cat(\"\\n ncols(array1) = \", ncols)\n",
    "cat(\"\\n nlevs(array1) = \", nlevs)\n",
    "cat(\"\\n\", typeof(M1))\n",
    "cat(\"\\n\", class(M1))"
   ]
  },
  {
   "cell_type": "code",
   "execution_count": 78,
   "metadata": {},
   "outputs": [
    {
     "name": "stdout",
     "output_type": "stream",
     "text": [
      ", , 1\n",
      "\n",
      "     [,1] [,2] [,3]\n",
      "[1,]    6    6    6\n",
      "[2,]   12   12   12\n",
      "[3,]   18   18   18\n",
      "[4,]   24   24   24\n",
      "\n",
      ", , 2\n",
      "\n",
      "     [,1] [,2] [,3]\n",
      "[1,]    6    6    6\n",
      "[2,]   12   12   12\n",
      "[3,]   18   18   18\n",
      "[4,]   24   24   24\n",
      "\n",
      ", , 1\n",
      "\n",
      "     [,1] [,2] [,3]\n",
      "[1,]   NA   NA   NA\n",
      "[2,]   NA   NA   NA\n",
      "[3,]   18   18   18\n",
      "[4,]   24   24   24\n",
      "\n",
      ", , 2\n",
      "\n",
      "     [,1] [,2] [,3]\n",
      "[1,]    6    6    6\n",
      "[2,]   12   12   12\n",
      "[3,]    0    0    0\n",
      "[4,]    0    0    0\n",
      "\n"
     ]
    }
   ],
   "source": [
    "print(M1)\n",
    "\n",
    "for (ilev in 1:nlevs){\n",
    "    if(ilev==1){\n",
    "        for (irow in 1:nrows){\n",
    "            for (icol in 1:ncols){\n",
    "                if(M1[irow, icol, ilev]<17){\n",
    "                    M1[irow, icol, ilev]=NA\n",
    "                    }\n",
    "             }\n",
    "        }\n",
    "    }\n",
    "    else{\n",
    "        for (irow in 1:nrows){\n",
    "            for (icol in 1:ncols){\n",
    "                if(M1[irow, icol, ilev]>12){\n",
    "                    M1[irow, icol, ilev]=0\n",
    "                    }\n",
    "             }\n",
    "        }\n",
    "        \n",
    "    }\n",
    "}\n",
    "print(M1)"
   ]
  },
  {
   "cell_type": "code",
   "execution_count": 81,
   "metadata": {},
   "outputs": [
    {
     "name": "stdout",
     "output_type": "stream",
     "text": [
      "[1] 24  0\n"
     ]
    }
   ],
   "source": [
    "print(M1[4,1,1:2])"
   ]
  },
  {
   "cell_type": "code",
   "execution_count": 83,
   "metadata": {},
   "outputs": [
    {
     "name": "stdout",
     "output_type": "stream",
     "text": [
      "[1] NA  6\n"
     ]
    }
   ],
   "source": [
    "print(M1[1,1,1:2])"
   ]
  },
  {
   "cell_type": "code",
   "execution_count": 85,
   "metadata": {},
   "outputs": [
    {
     "name": "stdout",
     "output_type": "stream",
     "text": [
      "[1] NA NA NA\n"
     ]
    }
   ],
   "source": [
    "print(M1[1,1:3,1])"
   ]
  },
  {
   "cell_type": "code",
   "execution_count": 86,
   "metadata": {},
   "outputs": [
    {
     "name": "stdout",
     "output_type": "stream",
     "text": [
      "[1] NA NA 18 24\n"
     ]
    }
   ],
   "source": [
    "print(M1[1:4,1,1])"
   ]
  }
 ],
 "metadata": {
  "kernelspec": {
   "display_name": "R",
   "language": "R",
   "name": "ir"
  },
  "language_info": {
   "codemirror_mode": "r",
   "file_extension": ".r",
   "mimetype": "text/x-r-source",
   "name": "R",
   "pygments_lexer": "r",
   "version": "3.6.1"
  }
 },
 "nbformat": 4,
 "nbformat_minor": 4
}
